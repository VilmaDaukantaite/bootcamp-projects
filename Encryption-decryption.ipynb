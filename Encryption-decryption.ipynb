{
 "cells": [
  {
   "cell_type": "code",
   "execution_count": 138,
   "metadata": {},
   "outputs": [],
   "source": [
    "# Importing random, string and collections libraries\n",
    "import random\n",
    "import string\n",
    "from collections import deque"
   ]
  },
  {
   "cell_type": "code",
   "execution_count": 139,
   "metadata": {},
   "outputs": [],
   "source": [
    "# getting the cleaned ascii\n",
    "alph = string.printable\n",
    "alphabet_split = alph.split(\" \")\n",
    "alphabet = alphabet_split[0]\n",
    "\n"
   ]
  },
  {
   "cell_type": "code",
   "execution_count": 140,
   "metadata": {},
   "outputs": [],
   "source": [
    "# Function that allows to create your own key with any characters that a language might use \n",
    "# if you provide a list of characters to be used\n",
    "\n",
    "def shuffle_alphabet(base = alphabet):\n",
    "    key_to_shuffle = list(base)\n",
    "    random.shuffle(key_to_shuffle)\n",
    "    key = ''.join(key_to_shuffle)\n",
    "    return key\n",
    "\n"
   ]
  },
  {
   "cell_type": "code",
   "execution_count": 148,
   "metadata": {},
   "outputs": [],
   "source": [
    "# Function takes 3 variables to encrypt or decrypt the message\n",
    "\n",
    "def encrypt_decrypt_ascii(m, a, k):\n",
    "    translation_table = m.maketrans(a, k)\n",
    "    encrypt_decrypt_message = m.translate(translation_table)\n",
    "    print(encrypt_decrypt_message)"
   ]
  },
  {
   "cell_type": "code",
   "execution_count": 149,
   "metadata": {},
   "outputs": [],
   "source": [
    "# Finding maximum key size for Caesar cypher\n",
    "max_key_size = len(alphabet)"
   ]
  },
  {
   "cell_type": "code",
   "execution_count": 150,
   "metadata": {},
   "outputs": [],
   "source": [
    "# Function to get ask for key to use in Caesar cypher\n",
    "\n",
    "def getKey():\n",
    "    key = 0\n",
    "    while True:\n",
    "        print(f'What number do you want to use for the cypher between -{max_key_size} and {max_key_size}) ')\n",
    "        key_c = int(input())\n",
    "        if key-c >= (-94) and key_c <= max_key_size:\n",
    "            return key_c\n"
   ]
  },
  {
   "cell_type": "code",
   "execution_count": 151,
   "metadata": {},
   "outputs": [],
   "source": [
    "# Function to create Caesarian cypher translation table using the key\n",
    "def shuffle_caesarian(base=alphabet):\n",
    "    d = deque(alphabet)\n",
    "    d.rotate(getKey())\n",
    "    alphabet_caesar = ''.join(list(d))\n",
    "    return alphabet_caesar\n"
   ]
  },
  {
   "cell_type": "code",
   "execution_count": 161,
   "metadata": {},
   "outputs": [
    {
     "name": "stdout",
     "output_type": "stream",
     "text": [
      "What number do you want to use for the cypher between -94 and 94) \n",
      "5\n",
      "z cfm5 gpk8fe\n"
     ]
    }
   ],
   "source": [
    "# Function to translate Caesarian cypher\n",
    "def caesarian(message, alphabet, alphabet_caesar):\n",
    "    trans_table = message.maketrans(alphabet, shuffle_caesarian())\n",
    "    caesarian_translation = message.translate(trans_table)\n",
    "    print(caesarian_translation)\n",
    "caesarian(\"D gjq9 ktocji\", alphabet_caesar, alphabet)"
   ]
  },
  {
   "cell_type": "code",
   "execution_count": 162,
   "metadata": {},
   "outputs": [
    {
     "name": "stdout",
     "output_type": "stream",
     "text": [
      "What number do you want to use for the cypher between -94 and 94) \n",
      "5\n",
      "D gjq9 ktocji\n",
      "What number do you want to use for the cypher between -94 and 94) \n",
      "5\n",
      "I love python\n"
     ]
    }
   ],
   "source": [
    "#testing caesarian cypher function parts\n",
    "message=\"I love python\"\n",
    "trans_table = message.maketrans(alphabet, shuffle_caesarian())\n",
    "caesarian_translation = message.translate(trans_table)\n",
    "print(caesarian_translation)\n",
    "message = \"D gjq9 ktocji\"\n",
    "trans_table = message.maketrans(shuffle_caesarian(), alphabet)\n",
    "caesarian_translation = message.translate(trans_table)\n",
    "print(caesarian_translation)"
   ]
  },
  {
   "cell_type": "code",
   "execution_count": null,
   "metadata": {},
   "outputs": [
    {
     "name": "stdout",
     "output_type": "stream",
     "text": [
      "Type 1 for encrypting a message. \n",
      "Type 2 for decripting a message. \n",
      "Type 3 to exit the program 1\n",
      "Type 1 for Caesarean cypher. \n",
      "Type 2 for Translation table 1\n",
      "What is your message i love sharky\n",
      "What number do you want to use for the cypher between -94 and 94) \n",
      "3\n",
      "f ilsb pe7ohv\n",
      "Type 1 for encrypting a message. \n",
      "Type 2 for decripting a message. \n",
      "Type 3 to exit the program 2\n",
      "Type 1 for Caesarean cypher. \n",
      "Type 2 for Translation table 1\n",
      "What is your message f ilsb pe7ohv\n",
      "What number do you want to use for the cypher between -94 and 94) \n",
      "3\n",
      "c fip8 mb4les\n",
      "Type 1 for encrypting a message. \n",
      "Type 2 for decripting a message. \n",
      "Type 3 to exit the program 1\n",
      "Type 1 for Caesarean cypher. \n",
      "Type 2 for Translation table 2\n",
      "What is your message i love sharky\n",
      "{ _-mL 3V~%YZ\n",
      "Type 1 for encrypting a message. \n",
      "Type 2 for decripting a message. \n",
      "Type 3 to exit the program 2\n",
      "Type 1 for Caesarean cypher. \n",
      "Type 2 for Translation table 2\n",
      "What is your message { _-mL 3V~%YZ\n",
      "i love sharky\n"
     ]
    }
   ],
   "source": [
    "choose_action=0\n",
    "while choose_action != 3:\n",
    "    choose_action = input(\"Type 1 for encrypting a message. \\nType 2 for decripting a message. \\nType 3 to exit the program \")\n",
    "    choose_encryption = input(\"Type 1 for Caesarean cypher. \\nType 2 for Translation table \")\n",
    "    if choose_action == \"1\":\n",
    "        message = input(\"What is your message \")\n",
    "        if choose_encryption == \"1\":\n",
    "            caesarian(message, alphabet, alphabet_caesar)\n",
    "        elif choose_encryption == \"2\":\n",
    "            encrypt_decrypt_ascii(message, alphabet, key)\n",
    "        else:\n",
    "            print(\"Only two methods available: 1 or 2\")\n",
    "    elif choose_action == \"2\":\n",
    "        message = input(\"What is your message \")\n",
    "        if choose_encryption == \"1\": \n",
    "            caesarian(message, alphabet, alphabet_caesar)\n",
    "        elif choose_encryption == \"2\":\n",
    "            encrypt_decrypt_ascii(message, key, alphabet)\n",
    "        else:\n",
    "            print(\"Only two methods available: 1 or 2\")\n",
    "    elif choose_action == \"3\":\n",
    "        break\n",
    "    else:\n",
    "        print(\"Options are only 1, 2 or 3\")\n",
    "\n",
    "\n",
    "\n",
    "#translation_table = message.maketrans(alphabet, key)\n",
    "#encrypt_message = message.translate(translation_table)\n",
    "\n",
    "#print(encrypt_message)"
   ]
  },
  {
   "cell_type": "code",
   "execution_count": 55,
   "metadata": {},
   "outputs": [
    {
     "name": "stdout",
     "output_type": "stream",
     "text": [
      "Provide text to decrypt 13'x$# ei 7# e#'X.H.X'X(w $=;Xz'\"$.eX#'X(w xeDx\"pXZXp H.$D.7^^e#D p7#D87DX le'x (3#7^ez iX^7#'ezi0 <'i xeDx\"pXZXp =8ep' e# (7'7 i'.8z'8.Xiw z$^=e#X( le'x (3#7^ez '3He#D 7#( (3#7^ez =e#(e#Dw ^7>X e' ZX.3 7''.7z'eZX T$. `7He( IHHpez7'e$# -XZXp$H^X#'w 7i lXpp 7i T$. 8iX 7i 7 iz.eH'e#D $. Dp8X p7#D87DX '$ z$##Xz' Xkei'e#D z$^H$#X#'i '$DX'xX.0\n",
      "Python is an interpreted, object-oriented, high-level programming language with dynamic semantics. Its high-level built in data structures, combined with dynamic typing and dynamic binding, make it very attractive for Rapid Application Development, as well as for use as a scripting or glue language to connect existing components together.\n"
     ]
    }
   ],
   "source": [
    "#message = input(\"Provide text to decrypt \")\n",
    "#translation_table = message.maketrans(key, alphabet)\n",
    "#decrypt_message = message.translate(translation_table)\n",
    "#print(decrypt_message)"
   ]
  },
  {
   "cell_type": "code",
   "execution_count": 63,
   "metadata": {},
   "outputs": [
    {
     "name": "stdout",
     "output_type": "stream",
     "text": [
      "{'e', 'A', 'i', 'R', 't', 'x', 'l', 'j', 'g', 'a', 'I', 'h', 's', 'w', 'm', 'o', 'c', 'p', '-', 'd', 'n', 'b', 'u', 'y', 'v', ',', 'P', '.', 'D', 'f', 'k', 'r'}\n"
     ]
    }
   ],
   "source": [
    "#option to use message to create translation table based on characters present\n",
    "\n",
    "#char_mess = set(message) - set(\" \")\n",
    "#print(char_mess)"
   ]
  },
  {
   "cell_type": "code",
   "execution_count": null,
   "metadata": {},
   "outputs": [],
   "source": []
  }
 ],
 "metadata": {
  "kernelspec": {
   "display_name": "Python 3",
   "language": "python",
   "name": "python3"
  },
  "language_info": {
   "codemirror_mode": {
    "name": "ipython",
    "version": 3
   },
   "file_extension": ".py",
   "mimetype": "text/x-python",
   "name": "python",
   "nbconvert_exporter": "python",
   "pygments_lexer": "ipython3",
   "version": "3.7.2"
  }
 },
 "nbformat": 4,
 "nbformat_minor": 2
}
