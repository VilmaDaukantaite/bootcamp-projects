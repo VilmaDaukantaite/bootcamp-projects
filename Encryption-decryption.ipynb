{
 "cells": [
  {
   "cell_type": "code",
   "execution_count": 93,
   "metadata": {},
   "outputs": [],
   "source": [
    "# Importing random and string libraries\n",
    "import random\n",
    "import string"
   ]
  },
  {
   "cell_type": "code",
   "execution_count": 97,
   "metadata": {},
   "outputs": [
    {
     "name": "stdout",
     "output_type": "stream",
     "text": [
      "94\n"
     ]
    }
   ],
   "source": [
    "# getting the cleaned ascii\n",
    "alph = string.printable\n",
    "alphabet_split = alph.split(\" \")\n",
    "alphabet = alphabet_split[0]\n",
    "\n"
   ]
  },
  {
   "cell_type": "code",
   "execution_count": 95,
   "metadata": {},
   "outputs": [],
   "source": [
    "# Function that allows to create your own key with any characters that a language might use \n",
    "# if you provide a list of characters to be used\n",
    "\n",
    "def shuffle_alphabet(base = alphabet):\n",
    "    key_to_shuffle = list(base)\n",
    "    random.shuffle(key_to_shuffle)\n",
    "    key = ''.join(key_to_shuffle)\n",
    "    return key\n",
    "key = shuffle_alphabet()"
   ]
  },
  {
   "cell_type": "code",
   "execution_count": 99,
   "metadata": {},
   "outputs": [],
   "source": [
    "# Function takes 3 variables to encrypt or decrypt the message\n",
    "\n",
    "def encrypt_decrypt_ascii(m, a, k):\n",
    "    translation_table = m.maketrans(a, k)\n",
    "    encrypt_decrypt_message = m.translate(translation_table)\n",
    "    print(encrypt_decrypt_message)"
   ]
  },
  {
   "cell_type": "code",
   "execution_count": 107,
   "metadata": {},
   "outputs": [
    {
     "name": "stdout",
     "output_type": "stream",
     "text": [
      "94\n"
     ]
    }
   ],
   "source": [
    "# Finding maximum key size for Caesar cypher\n",
    "max_key_size = print(len(alphabet))"
   ]
  },
  {
   "cell_type": "code",
   "execution_count": 110,
   "metadata": {},
   "outputs": [
    {
     "ename": "SyntaxError",
     "evalue": "invalid syntax (<ipython-input-110-1301a1bace04>, line 7)",
     "output_type": "error",
     "traceback": [
      "\u001b[0;36m  File \u001b[0;32m\"<ipython-input-110-1301a1bace04>\"\u001b[0;36m, line \u001b[0;32m7\u001b[0m\n\u001b[0;31m    key = int(input())\u001b[0m\n\u001b[0m      ^\u001b[0m\n\u001b[0;31mSyntaxError\u001b[0m\u001b[0;31m:\u001b[0m invalid syntax\n"
     ]
    }
   ],
   "source": [
    "# Function for encrpting decrypting using Caesar cypher\n",
    "\n",
    "def getKey():\n",
    "    key = 0\n",
    "    while True:\n",
    "        print('What number do you want to use for the cypher (1-94) ' % print(len(alphabet))\n",
    "        key = int(input())\n",
    "        if (key >= 1 and key <= print(len(alphabet)):\n",
    "            return key\n",
    "res = getKey()\n",
    "print(key)\n"
   ]
  },
  {
   "cell_type": "code",
   "execution_count": null,
   "metadata": {},
   "outputs": [],
   "source": [
    "number_for_caesar_cypher = input(\"What number do you want to use for the cypher (1-94) \")\n",
    "for element in message:\n",
    "    translated message.append(element)"
   ]
  },
  {
   "cell_type": "code",
   "execution_count": 91,
   "metadata": {},
   "outputs": [
    {
     "name": "stdout",
     "output_type": "stream",
     "text": [
      "Type 1 for encrypting a message. Type 2 for decripting a message. Type 3 to exit the program 1\n",
      "What is your message hello\n",
      "rE;;A\n",
      "Type 1 for encrypting a message. Type 2 for decripting a message. Type 3 to exit the program 2\n",
      "What is your message rE;;A\n",
      "hello\n",
      "Type 1 for encrypting a message. Type 2 for decripting a message. Type 3 to exit the program 3\n"
     ]
    }
   ],
   "source": [
    "# A loopt that alows user to encrypt or decrypt as many messages as he needs.\n",
    "\n",
    "while choose_action != 3:\n",
    "    choose_action = input(\"Type 1 for encrypting a message. Type 2 for decripting a message. Type 3 to exit the program \")\n",
    "    if choose_action == \"1\":\n",
    "        message = input(\"What is your message \")\n",
    "        encrypt_decrypt_ascii(message, alphabet, key)\n",
    "    elif choose_action == \"2\":\n",
    "        message = input(\"What is your message \")\n",
    "        encrypt_decrypt_ascii(message, key, alphabet)\n",
    "    elif choose_action == \"3\":\n",
    "        break\n",
    "    else:\n",
    "        print(\"Options are only 1, 2 or 3\")"
   ]
  },
  {
   "cell_type": "code",
   "execution_count": 54,
   "metadata": {},
   "outputs": [
    {
     "name": "stdout",
     "output_type": "stream",
     "text": [
      "13'x$# ei 7# e#'X.H.X'X(w $=;Xz'\"$.eX#'X(w xeDx\"pXZXp H.$D.7^^e#D p7#D87DX le'x (3#7^ez iX^7#'ezi0 <'i xeDx\"pXZXp =8ep' e# (7'7 i'.8z'8.Xiw z$^=e#X( le'x (3#7^ez '3He#D 7#( (3#7^ez =e#(e#Dw ^7>X e' ZX.3 7''.7z'eZX T$. `7He( IHHpez7'e$# -XZXp$H^X#'w 7i lXpp 7i T$. 8iX 7i 7 iz.eH'e#D $. Dp8X p7#D87DX '$ z$##Xz' Xkei'e#D z$^H$#X#'i '$DX'xX.0 \n"
     ]
    }
   ],
   "source": [
    "\n",
    "#translation_table = message.maketrans(alphabet, key)\n",
    "#encrypt_message = message.translate(translation_table)\n",
    "\n",
    "#print(encrypt_message)"
   ]
  },
  {
   "cell_type": "code",
   "execution_count": 55,
   "metadata": {},
   "outputs": [
    {
     "name": "stdout",
     "output_type": "stream",
     "text": [
      "Provide text to decrypt 13'x$# ei 7# e#'X.H.X'X(w $=;Xz'\"$.eX#'X(w xeDx\"pXZXp H.$D.7^^e#D p7#D87DX le'x (3#7^ez iX^7#'ezi0 <'i xeDx\"pXZXp =8ep' e# (7'7 i'.8z'8.Xiw z$^=e#X( le'x (3#7^ez '3He#D 7#( (3#7^ez =e#(e#Dw ^7>X e' ZX.3 7''.7z'eZX T$. `7He( IHHpez7'e$# -XZXp$H^X#'w 7i lXpp 7i T$. 8iX 7i 7 iz.eH'e#D $. Dp8X p7#D87DX '$ z$##Xz' Xkei'e#D z$^H$#X#'i '$DX'xX.0\n",
      "Python is an interpreted, object-oriented, high-level programming language with dynamic semantics. Its high-level built in data structures, combined with dynamic typing and dynamic binding, make it very attractive for Rapid Application Development, as well as for use as a scripting or glue language to connect existing components together.\n"
     ]
    }
   ],
   "source": [
    "#message = input(\"Provide text to decrypt \")\n",
    "#translation_table = message.maketrans(key, alphabet)\n",
    "#decrypt_message = message.translate(translation_table)\n",
    "#print(decrypt_message)"
   ]
  },
  {
   "cell_type": "code",
   "execution_count": 63,
   "metadata": {},
   "outputs": [
    {
     "name": "stdout",
     "output_type": "stream",
     "text": [
      "{'e', 'A', 'i', 'R', 't', 'x', 'l', 'j', 'g', 'a', 'I', 'h', 's', 'w', 'm', 'o', 'c', 'p', '-', 'd', 'n', 'b', 'u', 'y', 'v', ',', 'P', '.', 'D', 'f', 'k', 'r'}\n"
     ]
    }
   ],
   "source": [
    "#option to use message to create translation table based on characters present\n",
    "\n",
    "#char_mess = set(message) - set(\" \")\n",
    "#print(char_mess)"
   ]
  },
  {
   "cell_type": "code",
   "execution_count": null,
   "metadata": {},
   "outputs": [],
   "source": []
  }
 ],
 "metadata": {
  "kernelspec": {
   "display_name": "Python 3",
   "language": "python",
   "name": "python3"
  },
  "language_info": {
   "codemirror_mode": {
    "name": "ipython",
    "version": 3
   },
   "file_extension": ".py",
   "mimetype": "text/x-python",
   "name": "python",
   "nbconvert_exporter": "python",
   "pygments_lexer": "ipython3",
   "version": "3.7.2"
  }
 },
 "nbformat": 4,
 "nbformat_minor": 2
}
